{
 "cells": [
  {
   "cell_type": "code",
   "execution_count": 8,
   "metadata": {},
   "outputs": [
    {
     "name": "stdout",
     "output_type": "stream",
     "text": [
      "found it in 10458012 rounds!\n",
      "finished in 15.308771848678589s\n"
     ]
    }
   ],
   "source": [
    "import time\n",
    "\n",
    "def password_lookup(target):\n",
    "    password = [ 48, 48, 48, 97, 97, 97 ]\n",
    "    rounds = 0\n",
    "    \n",
    "    while password != [ 57, 57, 57, 122, 122, 122 ]:\n",
    "        rounds += 1\n",
    "        password[5] += 1\n",
    "\n",
    "        for i in range(len(password)):\n",
    "            if i < 3 and password[i] == 58:\n",
    "                password[i] = 48\n",
    "                password[i - 1] += 1\n",
    "            \n",
    "            if i >= 3 and password[i] == 123:\n",
    "                password[i] = 97\n",
    "                password[i - 1] += 1\n",
    "            \n",
    "        if ''.join([ chr(i) for i in password ]) == target:\n",
    "            return 'found it in {} rounds!'.format(rounds)\n",
    "\n",
    "    return 'not found! {} rounds'.format(rounds)\n",
    "\n",
    "starts_at = time.time()\n",
    "sorted = password_lookup('595alg')\n",
    "ends_at = time.time()\n",
    "\n",
    "print(sorted)\n",
    "print('finished in {}s'.format(ends_at - starts_at))\n"
   ]
  }
 ],
 "metadata": {
  "interpreter": {
   "hash": "aee8b7b246df8f9039afb4144a1f6fd8d2ca17a180786b69acc140d282b71a49"
  },
  "kernelspec": {
   "display_name": "Python 3.9.7 64-bit",
   "language": "python",
   "name": "python3"
  },
  "language_info": {
   "codemirror_mode": {
    "name": "ipython",
    "version": 3
   },
   "file_extension": ".py",
   "mimetype": "text/x-python",
   "name": "python",
   "nbconvert_exporter": "python",
   "pygments_lexer": "ipython3",
   "version": "3.9.7"
  },
  "orig_nbformat": 4
 },
 "nbformat": 4,
 "nbformat_minor": 2
}
