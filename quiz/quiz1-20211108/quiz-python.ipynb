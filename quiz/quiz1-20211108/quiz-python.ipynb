{
 "cells": [
  {
   "cell_type": "markdown",
   "metadata": {},
   "source": [
    "# Quiz 1"
   ]
  },
  {
   "cell_type": "markdown",
   "metadata": {},
   "source": [
    "## 1st Attempt"
   ]
  },
  {
   "cell_type": "code",
   "execution_count": 9,
   "metadata": {},
   "outputs": [
    {
     "name": "stdout",
     "output_type": "stream",
     "text": [
      "1\n",
      "4\n",
      "9\n",
      "16\n",
      "25\n",
      "36\n",
      "49\n",
      "64\n",
      "81\n"
     ]
    }
   ],
   "source": [
    "sq_l = [0]\n",
    "\n",
    "def sq(n):\n",
    "    if n == 0:\n",
    "        return 0\n",
    "    else:\n",
    "        if len(sq_l) <= n:\n",
    "            sq_r = 2 * n + sq(n - 1) - 1\n",
    "            sq_l.append(sq_r)\n",
    "\n",
    "            return sq_r\n",
    "        else:\n",
    "            return sq_l[n]\n",
    "\n",
    "\n",
    "for n in range(1, 10):\n",
    "    print(sq(n))"
   ]
  },
  {
   "cell_type": "code",
   "execution_count": 12,
   "metadata": {},
   "outputs": [
    {
     "name": "stdout",
     "output_type": "stream",
     "text": [
      "2060\n"
     ]
    }
   ],
   "source": [
    "print(0o3745 + 0b1101 + 1 + 0x19)"
   ]
  },
  {
   "cell_type": "code",
   "execution_count": 15,
   "metadata": {},
   "outputs": [
    {
     "name": "stdout",
     "output_type": "stream",
     "text": [
      "0b1010\n"
     ]
    }
   ],
   "source": [
    "print(bin(10))"
   ]
  },
  {
   "cell_type": "code",
   "execution_count": 17,
   "metadata": {},
   "outputs": [
    {
     "name": "stdout",
     "output_type": "stream",
     "text": [
      "[10, 9, 8, 7, 6, 5, 4, 3, 2, 1]\n"
     ]
    }
   ],
   "source": [
    "x = [1, 2, 3, 4, 5, 6, 7, 8, 9, 10]\n",
    "y = x[::-1]\n",
    "print(y)"
   ]
  },
  {
   "cell_type": "code",
   "execution_count": 18,
   "metadata": {},
   "outputs": [
    {
     "name": "stdout",
     "output_type": "stream",
     "text": [
      "14.0\n"
     ]
    }
   ],
   "source": [
    "print(1 + 5 * 4 / 2 + 3)\n"
   ]
  },
  {
   "cell_type": "code",
   "execution_count": 27,
   "metadata": {},
   "outputs": [
    {
     "name": "stdout",
     "output_type": "stream",
     "text": [
      "hi 0 128 64\n",
      "64 64\n",
      "hi 64 128 64\n",
      "96 64 95\n",
      "hi 64 95 64\n",
      "80 64 79\n",
      "hi 64 79 64\n",
      "72 64 71\n",
      "hi 64 71 64\n",
      "68 64 67\n",
      "hi 64 67 64\n",
      "66 64 65\n",
      "hi 64 65 64\n",
      "65 64 64\n"
     ]
    }
   ],
   "source": [
    "ini = 0\n",
    "fin = 128\n",
    "x = 64\n",
    "while(ini < fin):\n",
    "  print('hi', ini, fin, x)\n",
    "  mid = int ( (ini + fin + 1)/2 )\n",
    "  if(mid > x):\n",
    "    print(mid, x, mid - 1)\n",
    "    fin = mid - 1\n",
    "  else:\n",
    "    print(mid, x)\n",
    "    ini = mid\n"
   ]
  },
  {
   "cell_type": "code",
   "execution_count": 30,
   "metadata": {},
   "outputs": [
    {
     "name": "stdout",
     "output_type": "stream",
     "text": [
      "[-4. -2.  0.  2.  4.]\n"
     ]
    }
   ],
   "source": [
    "import numpy\n",
    "\n",
    "b = numpy.linspace(-180,180,5)\n",
    "print(b/45)\n"
   ]
  },
  {
   "cell_type": "code",
   "execution_count": 31,
   "metadata": {},
   "outputs": [
    {
     "name": "stdout",
     "output_type": "stream",
     "text": [
      "a e i o u "
     ]
    }
   ],
   "source": [
    "x = {'a':1, 'e':2, 'i':3, 'o':4, 'u':5}\n",
    "\n",
    "for y in x:\n",
    "\n",
    "  print(y, end = \" \")\n"
   ]
  },
  {
   "cell_type": "markdown",
   "metadata": {},
   "source": [
    "## 2nd Attempt"
   ]
  },
  {
   "cell_type": "code",
   "execution_count": 33,
   "metadata": {},
   "outputs": [
    {
     "data": {
      "text/plain": [
       "0    27\n",
       "1    41\n",
       "2    35\n",
       "3    33\n",
       "dtype: int64"
      ]
     },
     "execution_count": 33,
     "metadata": {},
     "output_type": "execute_result"
    }
   ],
   "source": [
    "import pandas as pd\n",
    "\n",
    "df = pd.DataFrame([\n",
    "    [35, 20, 16, 3],\n",
    "    [47, 46, 47, 36],\n",
    "    [20, 33, 12, 21],\n",
    "    [46, 5, 20, 35],\n",
    "    [39, 38, 39, 27],\n",
    "    [31, 10, 47, 36]\n",
    "])\n",
    "\n",
    "df.apply(lambda x: x.max() - x.min())"
   ]
  },
  {
   "cell_type": "code",
   "execution_count": 34,
   "metadata": {},
   "outputs": [
    {
     "name": "stdout",
     "output_type": "stream",
     "text": [
      "1985\n"
     ]
    }
   ],
   "source": [
    "x=0o3701\n",
    "print(x)\n"
   ]
  },
  {
   "cell_type": "code",
   "execution_count": 2,
   "metadata": {},
   "outputs": [
    {
     "name": "stderr",
     "output_type": "stream",
     "text": [
      "Unable to revert mtime: /Library/Fonts\n"
     ]
    },
    {
     "data": {
      "image/png": "[encoded data removed]",
      "text/plain": [
       "<Figure size 432x288 with 1 Axes>"
      ]
     },
     "metadata": {
      "needs_background": "light"
     },
     "output_type": "display_data"
    }
   ],
   "source": [
    "import matplotlib.pyplot as plt\n",
    "\n",
    "names = ['group_a', 'group_b', 'group_c']\n",
    "values = [1, 100, 10]\n",
    "\n",
    "plt.bar(names, values)\n",
    "plt.suptitle('Categorical Plotting')\n",
    "plt.show()"
   ]
  },
  {
   "cell_type": "code",
   "execution_count": 3,
   "metadata": {},
   "outputs": [
    {
     "name": "stdout",
     "output_type": "stream",
     "text": [
      "<class 'float'>\n"
     ]
    }
   ],
   "source": [
    "print(type(2e1))\n",
    "\n"
   ]
  },
  {
   "cell_type": "code",
   "execution_count": 4,
   "metadata": {},
   "outputs": [
    {
     "name": "stdout",
     "output_type": "stream",
     "text": [
      "hi\n"
     ]
    }
   ],
   "source": [
    "ini = 0\n",
    "fin = 128\n",
    "x = 64\n",
    "while(ini < fin):\n",
    "    print('hi')\n",
    "    mid = int((ini + fin + 1)/2)\n",
    "    if(mid == x):\n",
    "        break\n",
    "    elif(mid > x):\n",
    "        fin = mid - 1\n",
    "    else:\n",
    "        ini = mid\n"
   ]
  },
  {
   "cell_type": "code",
   "execution_count": 12,
   "metadata": {},
   "outputs": [
    {
     "name": "stdout",
     "output_type": "stream",
     "text": [
      "[ 2  2  6 16 10]\n"
     ]
    }
   ],
   "source": [
    "import numpy as np\n",
    "\n",
    "a = np.arange(12) * 2\n",
    "i = np.array([1, 1, 3, 8, 5])\n",
    "\n",
    "print(a[i])"
   ]
  },
  {
   "cell_type": "code",
   "execution_count": 13,
   "metadata": {},
   "outputs": [
    {
     "name": "stdout",
     "output_type": "stream",
     "text": [
      "0xf\n"
     ]
    }
   ],
   "source": [
    "print(hex(15))"
   ]
  }
 ],
 "metadata": {
  "interpreter": {
   "hash": "aee8b7b246df8f9039afb4144a1f6fd8d2ca17a180786b69acc140d282b71a49"
  },
  "kernelspec": {
   "display_name": "Python 3.9.7 64-bit",
   "name": "python3"
  },
  "language_info": {
   "codemirror_mode": {
    "name": "ipython",
    "version": 3
   },
   "file_extension": ".py",
   "mimetype": "text/x-python",
   "name": "python",
   "nbconvert_exporter": "python",
   "pygments_lexer": "ipython3",
   "version": "3.9.7"
  },
  "orig_nbformat": 4
 },
 "nbformat": 4,
 "nbformat_minor": 2
}
